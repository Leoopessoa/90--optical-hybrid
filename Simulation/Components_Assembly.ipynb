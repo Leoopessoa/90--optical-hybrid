{
 "cells": [
  {
   "cell_type": "code",
   "execution_count": null,
   "metadata": {},
   "outputs": [],
   "source": [
    "import os\n",
    "import matplotlib.pyplot as plt\n",
    "import numpy as np\n",
    "import math\n",
    "import pandas as pd\n",
    "import imp\n",
    "import sys\n",
    "import pickle as plk\n",
    "import importlib.util\n",
    "from numpy.lib.scimath import sqrt as csqrt\n",
    "from IPython.display import display, Math, clear_output\n",
    "from scipy.signal import find_peaks\n",
    "\n",
    "###############################################################\n",
    "#LINUX PATH\n",
    "\n",
    "sys.path.append(\"/opt/lumerical/v221/api/python\") #Default linux lumapi path\n",
    "import lumapi\n",
    "sys.path.append(os.path.dirname('/media/leonardo/datam02/Ring Resonator - Leonardo Pessôa/Ring-Resonator/Tutorial/')) #Current directory\n",
    "\n",
    "###############################################################\n",
    "#WINDOWS PATH\n",
    "\n",
    "# spec_win = importlib.util.spec_from_file_location('lumapi', 'C:\\\\Program Files\\\\Lumerical\\\\v202\\\\api\\\\python\\\\lumapi.py')\n",
    "# lumapi = importlib.util.module_from_spec(spec_win)\n",
    "# os.add_dll_directory(\"C:/Program Files/Lumerical/v202/api/python\")\n",
    "# sys.path.append(os.path.dirname('D:/AAAAAAAArquivos/Facul/Capacitação/GitHub/BraggGrating'))\n",
    "# spec_win.loader.exec_module(lumapi)\n",
    "\n",
    "def fwhm(band, reflection, dB):\n",
    "    from scipy.signal import find_peaks\n",
    "    peak, pd = find_peaks(reflection)\n",
    "    rmax = reflection[peak[np.argmax(reflection[peak])]]\n",
    "\n",
    "    min = 0\n",
    "    max = 0\n",
    "\n",
    "    if dB == True: \n",
    "        dB = 3\n",
    "        rmax = rmax-dB\n",
    "    else: \n",
    "        dB = 0 \n",
    "        rmax = rmax/2\n",
    "\n",
    "    for i in range(peak[np.argmax(reflection[peak])], 0, -1):\n",
    "        if (reflection[i] <(rmax) and reflection[i+1] < (rmax)):\n",
    "            min = i\n",
    "            break\n",
    "\n",
    "    for i in range(peak[np.argmax(reflection[peak])], len(band) - 1):\n",
    "        if (reflection[i-1] > (rmax) and reflection[i] < (rmax)):\n",
    "            max = i\n",
    "            break\n",
    "\n",
    "    print('FWHM = '+ str(np.round((abs(band[max]-band[min]))*1e9,4)) + 'nm')\n",
    "\n",
    "    r = (reflection[min] +reflection[max])/2\n",
    "\n",
    "    \n",
    "    return r,min,max"
   ]
  },
  {
   "cell_type": "markdown",
   "metadata": {},
   "source": [
    "# MMI 2x2"
   ]
  },
  {
   "cell_type": "code",
   "execution_count": null,
   "metadata": {},
   "outputs": [],
   "source": [
    "fdtd = lumapi.FDTD()"
   ]
  },
  {
   "cell_type": "code",
   "execution_count": null,
   "metadata": {},
   "outputs": [],
   "source": [
    "W1 = "
   ]
  }
 ],
 "metadata": {
  "language_info": {
   "name": "python"
  },
  "orig_nbformat": 4
 },
 "nbformat": 4,
 "nbformat_minor": 2
}
